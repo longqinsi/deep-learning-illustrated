{
 "cells": [
  {
   "cell_type": "markdown",
   "metadata": {},
   "source": [
    "# Intermediate Neural Network in Keras"
   ]
  },
  {
   "cell_type": "markdown",
   "metadata": {},
   "source": [
    "In this notebook, we improve our [introductory shallow net](https://github.com/the-deep-learners/deep-learning-illustrated/blob/master/notebooks/shallow_net_in_keras.ipynb) by applying the theory we have covered since. "
   ]
  },
  {
   "cell_type": "markdown",
   "metadata": {},
   "source": [
    "[![Open In Colab](https://colab.research.google.com/assets/colab-badge.svg)](https://colab.research.google.com/github/the-deep-learners/deep-learning-illustrated/blob/master/notebooks/intermediate_net_in_keras.ipynb)"
   ]
  },
  {
   "cell_type": "markdown",
   "metadata": {},
   "source": [
    "#### Load dependencies"
   ]
  },
  {
   "cell_type": "code",
   "execution_count": 1,
   "metadata": {
    "ExecuteTime": {
     "end_time": "2023-04-12T17:32:38.135281Z",
     "start_time": "2023-04-12T17:32:36.249011Z"
    }
   },
   "outputs": [
    {
     "name": "stderr",
     "output_type": "stream",
     "text": [
      "2023-04-12 09:32:36.504918: I tensorflow/core/util/port.cc:110] oneDNN custom operations are on. You may see slightly different numerical results due to floating-point round-off errors from different computation orders. To turn them off, set the environment variable `TF_ENABLE_ONEDNN_OPTS=0`.\n",
      "2023-04-12 09:32:36.562203: I tensorflow/core/platform/cpu_feature_guard.cc:182] This TensorFlow binary is optimized to use available CPU instructions in performance-critical operations.\n",
      "To enable the following instructions: AVX2 AVX_VNNI FMA, in other operations, rebuild TensorFlow with the appropriate compiler flags.\n"
     ]
    }
   ],
   "source": [
    "import keras\n",
    "from keras.datasets import mnist\n",
    "from keras.models import Sequential\n",
    "from keras.layers import Dense\n",
    "from keras.optimizers import SGD"
   ]
  },
  {
   "cell_type": "markdown",
   "metadata": {},
   "source": [
    "#### Load data"
   ]
  },
  {
   "cell_type": "code",
   "execution_count": 2,
   "metadata": {
    "ExecuteTime": {
     "end_time": "2023-04-12T17:32:38.483549Z",
     "start_time": "2023-04-12T17:32:38.139516Z"
    }
   },
   "outputs": [],
   "source": [
    "(X_train, y_train), (X_valid, y_valid) = mnist.load_data()"
   ]
  },
  {
   "cell_type": "markdown",
   "metadata": {},
   "source": [
    "#### Preprocess data"
   ]
  },
  {
   "cell_type": "code",
   "execution_count": 3,
   "metadata": {
    "ExecuteTime": {
     "end_time": "2023-04-12T17:32:39.757485Z",
     "start_time": "2023-04-12T17:32:38.485667Z"
    }
   },
   "outputs": [],
   "source": [
    "X_train = X_train.reshape(60000, 784).astype('float32')\n",
    "X_valid = X_valid.reshape(10000, 784).astype('float32')"
   ]
  },
  {
   "cell_type": "code",
   "execution_count": 4,
   "metadata": {
    "ExecuteTime": {
     "end_time": "2023-04-12T17:32:39.817182Z",
     "start_time": "2023-04-12T17:32:39.741761Z"
    }
   },
   "outputs": [],
   "source": [
    "X_train /= 255\n",
    "X_valid /= 255"
   ]
  },
  {
   "cell_type": "code",
   "execution_count": 5,
   "metadata": {
    "ExecuteTime": {
     "end_time": "2023-04-12T17:32:39.817182Z",
     "start_time": "2023-04-12T17:32:39.805405Z"
    }
   },
   "outputs": [],
   "source": [
    "n_classes = 10\n",
    "y_train = keras.utils.to_categorical(y_train, n_classes)\n",
    "y_valid = keras.utils.to_categorical(y_valid, n_classes)"
   ]
  },
  {
   "cell_type": "markdown",
   "metadata": {},
   "source": [
    "#### Design neural network architecture"
   ]
  },
  {
   "cell_type": "code",
   "execution_count": 6,
   "metadata": {
    "ExecuteTime": {
     "end_time": "2023-04-12T17:32:44.205441Z",
     "start_time": "2023-04-12T17:32:39.816086Z"
    }
   },
   "outputs": [
    {
     "name": "stderr",
     "output_type": "stream",
     "text": [
      "2023-04-12 09:32:39.862397: I tensorflow/compiler/xla/stream_executor/cuda/cuda_gpu_executor.cc:982] could not open file to read NUMA node: /sys/bus/pci/devices/0000:01:00.0/numa_node\n",
      "Your kernel may have been built without NUMA support.\n",
      "2023-04-12 09:32:39.869552: I tensorflow/compiler/xla/stream_executor/cuda/cuda_gpu_executor.cc:982] could not open file to read NUMA node: /sys/bus/pci/devices/0000:01:00.0/numa_node\n",
      "Your kernel may have been built without NUMA support.\n",
      "2023-04-12 09:32:39.869813: I tensorflow/compiler/xla/stream_executor/cuda/cuda_gpu_executor.cc:982] could not open file to read NUMA node: /sys/bus/pci/devices/0000:01:00.0/numa_node\n",
      "Your kernel may have been built without NUMA support.\n",
      "2023-04-12 09:32:39.871086: I tensorflow/compiler/xla/stream_executor/cuda/cuda_gpu_executor.cc:982] could not open file to read NUMA node: /sys/bus/pci/devices/0000:01:00.0/numa_node\n",
      "Your kernel may have been built without NUMA support.\n",
      "2023-04-12 09:32:39.871328: I tensorflow/compiler/xla/stream_executor/cuda/cuda_gpu_executor.cc:982] could not open file to read NUMA node: /sys/bus/pci/devices/0000:01:00.0/numa_node\n",
      "Your kernel may have been built without NUMA support.\n",
      "2023-04-12 09:32:39.871520: I tensorflow/compiler/xla/stream_executor/cuda/cuda_gpu_executor.cc:982] could not open file to read NUMA node: /sys/bus/pci/devices/0000:01:00.0/numa_node\n",
      "Your kernel may have been built without NUMA support.\n",
      "2023-04-12 09:32:43.500626: I tensorflow/compiler/xla/stream_executor/cuda/cuda_gpu_executor.cc:982] could not open file to read NUMA node: /sys/bus/pci/devices/0000:01:00.0/numa_node\n",
      "Your kernel may have been built without NUMA support.\n",
      "2023-04-12 09:32:43.501798: I tensorflow/compiler/xla/stream_executor/cuda/cuda_gpu_executor.cc:982] could not open file to read NUMA node: /sys/bus/pci/devices/0000:01:00.0/numa_node\n",
      "Your kernel may have been built without NUMA support.\n",
      "2023-04-12 09:32:43.503633: I tensorflow/core/common_runtime/gpu/gpu_device.cc:1722] Could not identify NUMA node of platform GPU id 0, defaulting to 0.  Your kernel may not have been built with NUMA support.\n",
      "2023-04-12 09:32:43.503995: I tensorflow/compiler/xla/stream_executor/cuda/cuda_gpu_executor.cc:982] could not open file to read NUMA node: /sys/bus/pci/devices/0000:01:00.0/numa_node\n",
      "Your kernel may have been built without NUMA support.\n",
      "2023-04-12 09:32:43.505779: I tensorflow/core/common_runtime/gpu/gpu_device.cc:1635] Created device /job:localhost/replica:0/task:0/device:GPU:0 with 6569 MB memory:  -> device: 0, name: NVIDIA GeForce GTX 1070, pci bus id: 0000:01:00.0, compute capability: 6.1\n",
      "2023-04-12 09:32:43.681258: I tensorflow/compiler/xla/stream_executor/cuda/cuda_driver.cc:736] failed to allocate 6.42GiB (6888095744 bytes) from device: CUDA_ERROR_OUT_OF_MEMORY: out of memory\n",
      "2023-04-12 09:32:43.684957: I tensorflow/compiler/xla/stream_executor/cuda/cuda_driver.cc:736] failed to allocate 5.77GiB (6199285760 bytes) from device: CUDA_ERROR_OUT_OF_MEMORY: out of memory\n",
      "2023-04-12 09:32:43.688239: I tensorflow/compiler/xla/stream_executor/cuda/cuda_driver.cc:736] failed to allocate 5.20GiB (5579357184 bytes) from device: CUDA_ERROR_OUT_OF_MEMORY: out of memory\n",
      "2023-04-12 09:32:43.691048: I tensorflow/compiler/xla/stream_executor/cuda/cuda_driver.cc:736] failed to allocate 4.68GiB (5021421568 bytes) from device: CUDA_ERROR_OUT_OF_MEMORY: out of memory\n",
      "2023-04-12 09:32:43.694353: I tensorflow/compiler/xla/stream_executor/cuda/cuda_driver.cc:736] failed to allocate 4.21GiB (4519279104 bytes) from device: CUDA_ERROR_OUT_OF_MEMORY: out of memory\n",
      "2023-04-12 09:32:43.699401: I tensorflow/compiler/xla/stream_executor/cuda/cuda_driver.cc:736] failed to allocate 3.79GiB (4067351040 bytes) from device: CUDA_ERROR_OUT_OF_MEMORY: out of memory\n",
      "2023-04-12 09:32:43.703653: I tensorflow/compiler/xla/stream_executor/cuda/cuda_driver.cc:736] failed to allocate 3.41GiB (3660615936 bytes) from device: CUDA_ERROR_OUT_OF_MEMORY: out of memory\n",
      "2023-04-12 09:32:43.708052: I tensorflow/compiler/xla/stream_executor/cuda/cuda_driver.cc:736] failed to allocate 3.07GiB (3294554368 bytes) from device: CUDA_ERROR_OUT_OF_MEMORY: out of memory\n",
      "2023-04-12 09:32:43.711236: I tensorflow/compiler/xla/stream_executor/cuda/cuda_driver.cc:736] failed to allocate 2.76GiB (2965098752 bytes) from device: CUDA_ERROR_OUT_OF_MEMORY: out of memory\n",
      "2023-04-12 09:32:43.714781: I tensorflow/compiler/xla/stream_executor/cuda/cuda_driver.cc:736] failed to allocate 2.48GiB (2668588800 bytes) from device: CUDA_ERROR_OUT_OF_MEMORY: out of memory\n",
      "2023-04-12 09:32:43.717786: I tensorflow/compiler/xla/stream_executor/cuda/cuda_driver.cc:736] failed to allocate 2.24GiB (2401729792 bytes) from device: CUDA_ERROR_OUT_OF_MEMORY: out of memory\n",
      "2023-04-12 09:32:43.720618: I tensorflow/compiler/xla/stream_executor/cuda/cuda_driver.cc:736] failed to allocate 2.01GiB (2161556736 bytes) from device: CUDA_ERROR_OUT_OF_MEMORY: out of memory\n",
      "2023-04-12 09:32:43.723852: I tensorflow/compiler/xla/stream_executor/cuda/cuda_driver.cc:736] failed to allocate 1.81GiB (1945401088 bytes) from device: CUDA_ERROR_OUT_OF_MEMORY: out of memory\n",
      "2023-04-12 09:32:43.726714: I tensorflow/compiler/xla/stream_executor/cuda/cuda_driver.cc:736] failed to allocate 1.63GiB (1750861056 bytes) from device: CUDA_ERROR_OUT_OF_MEMORY: out of memory\n",
      "2023-04-12 09:32:43.729607: I tensorflow/compiler/xla/stream_executor/cuda/cuda_driver.cc:736] failed to allocate 1.47GiB (1575774976 bytes) from device: CUDA_ERROR_OUT_OF_MEMORY: out of memory\n",
      "2023-04-12 09:32:43.732565: I tensorflow/compiler/xla/stream_executor/cuda/cuda_driver.cc:736] failed to allocate 1.32GiB (1418197504 bytes) from device: CUDA_ERROR_OUT_OF_MEMORY: out of memory\n",
      "2023-04-12 09:32:43.736661: I tensorflow/compiler/xla/stream_executor/cuda/cuda_driver.cc:736] failed to allocate 1.19GiB (1276377856 bytes) from device: CUDA_ERROR_OUT_OF_MEMORY: out of memory\n",
      "2023-04-12 09:32:43.740167: I tensorflow/compiler/xla/stream_executor/cuda/cuda_driver.cc:736] failed to allocate 1.07GiB (1148740096 bytes) from device: CUDA_ERROR_OUT_OF_MEMORY: out of memory\n",
      "2023-04-12 09:32:43.744250: I tensorflow/compiler/xla/stream_executor/cuda/cuda_driver.cc:736] failed to allocate 985.97MiB (1033866240 bytes) from device: CUDA_ERROR_OUT_OF_MEMORY: out of memory\n",
      "2023-04-12 09:32:43.751822: I tensorflow/compiler/xla/stream_executor/cuda/cuda_driver.cc:736] failed to allocate 887.37MiB (930479616 bytes) from device: CUDA_ERROR_OUT_OF_MEMORY: out of memory\n",
      "2023-04-12 09:32:43.755447: I tensorflow/compiler/xla/stream_executor/cuda/cuda_driver.cc:736] failed to allocate 798.64MiB (837431808 bytes) from device: CUDA_ERROR_OUT_OF_MEMORY: out of memory\n",
      "2023-04-12 09:32:43.758464: I tensorflow/compiler/xla/stream_executor/cuda/cuda_driver.cc:736] failed to allocate 718.77MiB (753688576 bytes) from device: CUDA_ERROR_OUT_OF_MEMORY: out of memory\n",
      "2023-04-12 09:32:43.761028: I tensorflow/compiler/xla/stream_executor/cuda/cuda_driver.cc:736] failed to allocate 646.90MiB (678319872 bytes) from device: CUDA_ERROR_OUT_OF_MEMORY: out of memory\n",
      "2023-04-12 09:32:43.764785: I tensorflow/compiler/xla/stream_executor/cuda/cuda_driver.cc:736] failed to allocate 582.21MiB (610488064 bytes) from device: CUDA_ERROR_OUT_OF_MEMORY: out of memory\n",
      "2023-04-12 09:32:43.768019: I tensorflow/compiler/xla/stream_executor/cuda/cuda_driver.cc:736] failed to allocate 523.99MiB (549439232 bytes) from device: CUDA_ERROR_OUT_OF_MEMORY: out of memory\n",
      "2023-04-12 09:32:43.770757: I tensorflow/compiler/xla/stream_executor/cuda/cuda_driver.cc:736] failed to allocate 471.59MiB (494495488 bytes) from device: CUDA_ERROR_OUT_OF_MEMORY: out of memory\n",
      "2023-04-12 09:32:43.773894: I tensorflow/compiler/xla/stream_executor/cuda/cuda_driver.cc:736] failed to allocate 424.43MiB (445046016 bytes) from device: CUDA_ERROR_OUT_OF_MEMORY: out of memory\n",
      "2023-04-12 09:32:43.776837: I tensorflow/compiler/xla/stream_executor/cuda/cuda_driver.cc:736] failed to allocate 381.99MiB (400541440 bytes) from device: CUDA_ERROR_OUT_OF_MEMORY: out of memory\n",
      "2023-04-12 09:32:43.780092: I tensorflow/compiler/xla/stream_executor/cuda/cuda_driver.cc:736] failed to allocate 343.79MiB (360487424 bytes) from device: CUDA_ERROR_OUT_OF_MEMORY: out of memory\n",
      "2023-04-12 09:32:43.787559: I tensorflow/compiler/xla/stream_executor/cuda/cuda_driver.cc:736] failed to allocate 309.41MiB (324438784 bytes) from device: CUDA_ERROR_OUT_OF_MEMORY: out of memory\n",
      "2023-04-12 09:32:43.795126: I tensorflow/compiler/xla/stream_executor/cuda/cuda_driver.cc:736] failed to allocate 278.47MiB (291995136 bytes) from device: CUDA_ERROR_OUT_OF_MEMORY: out of memory\n",
      "2023-04-12 09:32:43.798889: I tensorflow/compiler/xla/stream_executor/cuda/cuda_driver.cc:736] failed to allocate 250.62MiB (262795776 bytes) from device: CUDA_ERROR_OUT_OF_MEMORY: out of memory\n",
      "2023-04-12 09:32:43.801780: I tensorflow/compiler/xla/stream_executor/cuda/cuda_driver.cc:736] failed to allocate 225.56MiB (236516352 bytes) from device: CUDA_ERROR_OUT_OF_MEMORY: out of memory\n",
      "2023-04-12 09:32:43.806083: I tensorflow/compiler/xla/stream_executor/cuda/cuda_driver.cc:736] failed to allocate 203.00MiB (212864768 bytes) from device: CUDA_ERROR_OUT_OF_MEMORY: out of memory\n",
      "2023-04-12 09:32:43.809496: I tensorflow/compiler/xla/stream_executor/cuda/cuda_driver.cc:736] failed to allocate 182.70MiB (191578368 bytes) from device: CUDA_ERROR_OUT_OF_MEMORY: out of memory\n",
      "2023-04-12 09:32:43.813751: I tensorflow/compiler/xla/stream_executor/cuda/cuda_driver.cc:736] failed to allocate 164.43MiB (172420608 bytes) from device: CUDA_ERROR_OUT_OF_MEMORY: out of memory\n",
      "2023-04-12 09:32:43.817596: I tensorflow/compiler/xla/stream_executor/cuda/cuda_driver.cc:736] failed to allocate 147.99MiB (155178752 bytes) from device: CUDA_ERROR_OUT_OF_MEMORY: out of memory\n",
      "2023-04-12 09:32:43.821747: I tensorflow/compiler/xla/stream_executor/cuda/cuda_driver.cc:736] failed to allocate 133.19MiB (139661056 bytes) from device: CUDA_ERROR_OUT_OF_MEMORY: out of memory\n",
      "2023-04-12 09:32:43.824474: I tensorflow/compiler/xla/stream_executor/cuda/cuda_driver.cc:736] failed to allocate 119.87MiB (125694976 bytes) from device: CUDA_ERROR_OUT_OF_MEMORY: out of memory\n"
     ]
    }
   ],
   "source": [
    "model = Sequential()\n",
    "model.add(Dense(64, activation='relu', input_shape=(784,)))\n",
    "model.add(Dense(64, activation='relu'))\n",
    "model.add(Dense(10, activation='softmax'))"
   ]
  },
  {
   "cell_type": "code",
   "execution_count": 7,
   "metadata": {
    "ExecuteTime": {
     "end_time": "2023-04-12T17:32:44.271197Z",
     "start_time": "2023-04-12T17:32:44.208624Z"
    }
   },
   "outputs": [
    {
     "name": "stdout",
     "output_type": "stream",
     "text": [
      "Model: \"sequential\"\n",
      "_________________________________________________________________\n",
      " Layer (type)                Output Shape              Param #   \n",
      "=================================================================\n",
      " dense (Dense)               (None, 64)                50240     \n",
      "                                                                 \n",
      " dense_1 (Dense)             (None, 64)                4160      \n",
      "                                                                 \n",
      " dense_2 (Dense)             (None, 10)                650       \n",
      "                                                                 \n",
      "=================================================================\n",
      "Total params: 55,050\n",
      "Trainable params: 55,050\n",
      "Non-trainable params: 0\n",
      "_________________________________________________________________\n"
     ]
    }
   ],
   "source": [
    "model.summary()"
   ]
  },
  {
   "cell_type": "markdown",
   "metadata": {},
   "source": [
    "#### Configure model"
   ]
  },
  {
   "cell_type": "code",
   "execution_count": 8,
   "metadata": {
    "ExecuteTime": {
     "end_time": "2023-04-12T17:32:44.624082Z",
     "start_time": "2023-04-12T17:32:44.245167Z"
    }
   },
   "outputs": [
    {
     "name": "stderr",
     "output_type": "stream",
     "text": [
      "/usr/local/lib/python3.8/dist-packages/keras/optimizers/legacy/gradient_descent.py:114: UserWarning: The `lr` argument is deprecated, use `learning_rate` instead.\n",
      "  super().__init__(name, **kwargs)\n"
     ]
    }
   ],
   "source": [
    "model.compile(loss='categorical_crossentropy', optimizer=SGD(lr=0.1), metrics=['accuracy'])"
   ]
  },
  {
   "cell_type": "markdown",
   "metadata": {},
   "source": [
    "#### Train!"
   ]
  },
  {
   "cell_type": "code",
   "execution_count": null,
   "metadata": {
    "pycharm": {
     "is_executing": true
    }
   },
   "outputs": [],
   "source": [
    "model.fit(X_train, y_train, batch_size=128, epochs=20, verbose=1, validation_data=(X_valid, y_valid))"
   ]
  },
  {
   "cell_type": "code",
   "execution_count": null,
   "metadata": {
    "pycharm": {
     "is_executing": true
    }
   },
   "outputs": [],
   "source": []
  }
 ],
 "metadata": {
  "kernelspec": {
   "display_name": "Python 3 (ipykernel)",
   "language": "python",
   "name": "python3"
  },
  "language_info": {
   "codemirror_mode": {
    "name": "ipython",
    "version": 3
   },
   "file_extension": ".py",
   "mimetype": "text/x-python",
   "name": "python",
   "nbconvert_exporter": "python",
   "pygments_lexer": "ipython3",
   "version": "3.8.10"
  }
 },
 "nbformat": 4,
 "nbformat_minor": 2
}
